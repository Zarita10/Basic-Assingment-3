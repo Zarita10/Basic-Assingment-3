{
  "nbformat": 4,
  "nbformat_minor": 0,
  "metadata": {
    "colab": {
      "provenance": []
    },
    "kernelspec": {
      "name": "python3",
      "display_name": "Python 3"
    },
    "language_info": {
      "name": "python"
    }
  },
  "cells": [
    {
      "cell_type": "markdown",
      "source": [
        "1. Why are functions advantageous to have in your programs?\n",
        "- to make program shorter, easier to operate and less running time.\n",
        "2. When does the code in a function run: when it's specified or when it's called?\n",
        "- When code is called it runs\n",
        "3. What statement creates a function?\n",
        "- def my_func()\n",
        "- pass\n",
        "4. What is the difference between a function and a function call?\n",
        "- A function is a block of code that does a particular operation and returns a result. It usually accepts inputs as parameters and returns a result. The parameters are not mandatory.\n",
        "-A function call is the code used to pass control to a function.\n",
        "5. How many global scopes are there in a Python program? How many local scopes?\n",
        "- There's only one global Python scope per program execution. This scope remains in existence until the program ends and a local scope is created whenever a function is called.\n",
        "6. What happens to variables in a local scope when the function call returns?\n",
        "- When a function returns, the local scope is destroyed.\n",
        "7. What is the concept of a return value? Is it possible to have a return value in an expression?\n",
        "- A return value is the value that a function call evaluates to. Like any value, a return value can be used as part of an expression.\n",
        "8. If a function does not have a return statement, what is the return value of a call to that function?\n",
        "- If the funtion does not have a return statement it will not return anything.\n",
        "9. How do you make a function variable refer to the global variable?\n",
        "- To make function variable as a global variable you can use the global keyword to declare which variables are global.\n",
        "10. What is the data type of None?\n",
        "- The data type of None is NoneType.\n",
        "11. What does the sentence import areallyourpetsnamederic do?\n",
        "- a module of this name doesnt exists in Python\n",
        "12. If you had a bacon() feature in a spam module, what would you call it after importing spam?\n",
        "- spam.bacon()\n",
        "13. What can you do to save a programme from crashing if it encounters an error?\n",
        "-  We can use try except clause to save a program from crashing.\n",
        "14. What is the purpose of the try clause? What is the purpose of the except clause?\n",
        "- Try and Except clause is used to handle the errors within our code . The try block is used to check some code for errors i.e the code inside the try block will execute when there is no error in the program. Whereas the code inside the except block will execute whenever the program encounters some error in the try block.\n",
        "\n"
      ],
      "metadata": {
        "id": "zEx6RFge-Hrs"
      }
    }
  ]
}